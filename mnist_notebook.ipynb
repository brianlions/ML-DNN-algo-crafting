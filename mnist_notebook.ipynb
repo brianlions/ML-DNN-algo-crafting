{
 "cells": [
  {
   "cell_type": "code",
   "execution_count": 1,
   "id": "5f45a439",
   "metadata": {},
   "outputs": [],
   "source": [
    "import sys\n",
    "import logging\n",
    "import numpy as np\n",
    "import ds_mnist\n",
    "import dnn\n",
    "import log_setup\n",
    "import matplotlib.pyplot as plt\n",
    "\n",
    "log_setup.setup()"
   ]
  },
  {
   "cell_type": "markdown",
   "id": "6687b940",
   "metadata": {},
   "source": [
    "加载MNIST数据，并以ASCII方式，显示最前面两张图片对应的数字"
   ]
  },
  {
   "cell_type": "code",
   "execution_count": 2,
   "id": "31c42497",
   "metadata": {},
   "outputs": [
    {
     "name": "stderr",
     "output_type": "stream",
     "text": [
      "[2023-04-25 16:24:42,052] [INFO]\t[ds_mnist.py:23:_read_raw_file] loading mnist data file: ./datasets/mnist/train-images-idx3-ubyte\n",
      "[2023-04-25 16:24:42,130] [INFO]\t[ds_mnist.py:23:_read_raw_file] loading mnist data file: ./datasets/mnist/t10k-images-idx3-ubyte\n",
      "[2023-04-25 16:24:42,146] [INFO]\t[ds_mnist.py:23:_read_raw_file] loading mnist data file: ./datasets/mnist/train-labels-idx1-ubyte\n",
      "[2023-04-25 16:24:42,178] [INFO]\t[ds_mnist.py:23:_read_raw_file] loading mnist data file: ./datasets/mnist/t10k-labels-idx1-ubyte\n",
      "[2023-04-25 16:24:49,206] [INFO]\t[ds_mnist.py:71:distribution] training dataset:   [4881 5621 4993 5092 4852 4583 4903 5212 4897 4966], total 50000\n",
      "[2023-04-25 16:24:49,221] [INFO]\t[ds_mnist.py:71:distribution] validation dataset: [1042 1121  965 1039  990  838 1015 1053  954  983], total 10000\n",
      "[2023-04-25 16:24:49,221] [INFO]\t[ds_mnist.py:71:distribution] testing dataset:    [ 980 1135 1032 1010  982  892  958 1028  974 1009], total 10000\n"
     ]
    },
    {
     "name": "stdout",
     "output_type": "stream",
     "text": [
      "----------\n",
      "label: 5\n",
      "............................\n",
      "............................\n",
      "............................\n",
      "............................\n",
      "....................xxxx....\n",
      ".................xxxxxxx....\n",
      "..............xxxxxxxxx.....\n",
      ".............xxxxxx.........\n",
      "............xxxx............\n",
      "...........xxxx.............\n",
      "...........xxx..............\n",
      "..........xxxx..............\n",
      ".........xxxxx..............\n",
      ".........xxxxxxxx...........\n",
      ".........xxxxxxxxxx.........\n",
      ".........xxx....xxx.........\n",
      ".................xx.........\n",
      "................xxx.........\n",
      "...............xxxx.........\n",
      "......xx.......xxxx.........\n",
      ".....xxx......xxxx..........\n",
      ".....xxxxxx.xxxxx...........\n",
      "......xxxxxxxxxx............\n",
      "........xxxxxx..............\n",
      "............................\n",
      "............................\n",
      "............................\n",
      "............................\n",
      "\n",
      "----------\n",
      "label: 0\n",
      "............................\n",
      "............................\n",
      "............................\n",
      "............................\n",
      "............................\n",
      "............................\n",
      "..............xxxxx.........\n",
      ".............xxxxxxx........\n",
      "..........xxxxxx.xxxx.......\n",
      ".........xxxx.....xxxx......\n",
      "........xxxx.......xxx......\n",
      ".......xxx..........xxx.....\n",
      "......xxx...........xxx.....\n",
      ".....xxx.............xx.....\n",
      ".....xx..............xxx....\n",
      "....xxx..............xxx....\n",
      "....xx................xx....\n",
      "....xx...............xx.....\n",
      "....xxx..............xx.....\n",
      "....xxx............xxx......\n",
      ".....xxx........xxxxx.......\n",
      "......xxxxx..xxxxx..........\n",
      "........xxxxxxxx............\n",
      "............................\n",
      "............................\n",
      "............................\n",
      "............................\n",
      "............................\n",
      "\n"
     ]
    }
   ],
   "source": [
    "# 全部数据为 70000 张\n",
    "# True 则加载 1/10 的数据，加快加载和训练的速度，但效果会受影响\n",
    "one_tenth=False\n",
    "\n",
    "reader = ds_mnist.MnistRawReader(1, one_tenth=one_tenth)\n",
    "reader.dump_image_idx(0)\n",
    "reader.dump_image_idx(1)"
   ]
  },
  {
   "cell_type": "markdown",
   "id": "98639702",
   "metadata": {},
   "source": [
    "切分训练集、验证集、测试集数据，比例为5:1:1。"
   ]
  },
  {
   "cell_type": "code",
   "execution_count": 3,
   "id": "f6508962",
   "metadata": {},
   "outputs": [
    {
     "name": "stderr",
     "output_type": "stream",
     "text": [
      "[2023-04-25 16:24:49,284] [INFO]\t[ds_mnist.py:23:_read_raw_file] loading mnist data file: ./datasets/mnist/train-images-idx3-ubyte\n",
      "[2023-04-25 16:24:49,364] [INFO]\t[ds_mnist.py:23:_read_raw_file] loading mnist data file: ./datasets/mnist/t10k-images-idx3-ubyte\n",
      "[2023-04-25 16:24:49,380] [INFO]\t[ds_mnist.py:23:_read_raw_file] loading mnist data file: ./datasets/mnist/train-labels-idx1-ubyte\n",
      "[2023-04-25 16:24:49,395] [INFO]\t[ds_mnist.py:23:_read_raw_file] loading mnist data file: ./datasets/mnist/t10k-labels-idx1-ubyte\n",
      "[2023-04-25 16:24:56,896] [INFO]\t[ds_mnist.py:71:distribution] training dataset:   [4907 5600 5035 5145 4831 4500 4940 5249 4882 4911], total 50000\n",
      "[2023-04-25 16:24:56,896] [INFO]\t[ds_mnist.py:71:distribution] validation dataset: [ 981 1131  967  983 1018  888  954 1070  996 1012], total 10000\n",
      "[2023-04-25 16:24:56,911] [INFO]\t[ds_mnist.py:71:distribution] testing dataset:    [1015 1146  988 1013  975  925  982  974  947 1035], total 10000\n"
     ]
    },
    {
     "name": "stdout",
     "output_type": "stream",
     "text": [
      "50000 10000 10000\n",
      "50000 10000 10000\n"
     ]
    }
   ],
   "source": [
    "#train_data, validation_data, test_data = ds_mnist.load_data_set(ds_mnist.NO_SHUFFLE, one_tenth=one_tenth)\n",
    "train_data, validation_data, test_data = ds_mnist.load_data_set(ds_mnist.SHUFFLE_ALL, one_tenth=one_tenth)\n",
    "n_train, n_eval, n_test = len(train_data[0]), len(validation_data[0]), len(test_data[0])\n",
    "print(len(train_data[0]), len(validation_data[0]), len(test_data[0]))\n",
    "print(len(train_data[1]), len(validation_data[1]), len(test_data[1]))"
   ]
  },
  {
   "cell_type": "code",
   "execution_count": 4,
   "id": "02cdcf0b",
   "metadata": {},
   "outputs": [],
   "source": [
    "model_file = 'model_mnist.json'\n",
    "\n",
    "def train_nn_v2():\n",
    "    net = dnn.NeuralNetwork(input_size=784, fc_sizes=[30, 10], lr=0.03, loss='ce',\n",
    "            #l2reg=5,\n",
    "            #momentum=0.7,\n",
    "            l2reg=1e-3,\n",
    "            #l1reg=3,\n",
    "            #dropout=0.2,\n",
    "            activations=['relu', 'sigmoid'],\n",
    "            stride=8)\n",
    "    train_stat, eval_stat = net.train(train_data, epochs=10, batch_size=64,\n",
    "            eval_data=validation_data, collect_eval_stat=True, collect_train_stat=True)\n",
    "    net.save(model_file)\n",
    "    return net, train_stat, eval_stat\n",
    "\n",
    "def load_n_eval(max_show = 3):\n",
    "    net = dnn.NeuralNetwork.load(model_file)\n",
    "    result = net.evaluate(test_data[0], test_data[1], label_is_matrix=False)\n",
    "    n_correct = np.sum(result[:,0] == result[:,1])\n",
    "    acc = 1.0 * n_correct / len(test_data[0])\n",
    "    logging.info('test data set: accuracy %5d / %5d = %.4f' % (\n",
    "        n_correct, len(test_data[0]), acc))\n",
    "    if max_show <= 0:\n",
    "        return net, acc\n",
    "\n",
    "    n = 0\n",
    "    for img, l, p in list(zip(test_data[0], test_data[1], result)):\n",
    "        if p[0] != l and n < max_show:\n",
    "            print('# %d - predict: %d, actual: %d' % (n + 1, p[0], l))\n",
    "            ds_mnist.dump_one(img)\n",
    "            n += 1\n",
    "\n",
    "    return net, acc\n"
   ]
  },
  {
   "cell_type": "markdown",
   "id": "c7197ef0",
   "metadata": {},
   "source": [
    "训练并保存模型"
   ]
  },
  {
   "cell_type": "code",
   "execution_count": 5,
   "id": "9cf70c28",
   "metadata": {
    "scrolled": false
   },
   "outputs": [
    {
     "name": "stderr",
     "output_type": "stream",
     "text": [
      "[2023-04-25 16:24:56,986] [INFO]\t[dnn.py:123:__init__] init fc-layer #1: w shape (784, 30) mean -0.000023, b shape (30,) mean -0.215305, act relu\n",
      "[2023-04-25 16:24:56,986] [INFO]\t[dnn.py:123:__init__] init fc-layer #2: w shape (30, 10) mean 0.004632, b shape (10,) mean -0.212873, act sigmoid\n",
      "[2023-04-25 16:24:57,027] [INFO]\t[dnn.py:187:train] training args: lr=0.03, l2reg=0.001, l1reg=0, dropout=0, momentum=0, stride=8, epochs=10, batch_size=64, n_samples=50000\n",
      "[2023-04-25 16:25:06,652] [INFO]\t[dnn.py:202:train] 9.405 sec, finish epoch 1 / 10\n",
      "[2023-04-25 16:25:07,683] [INFO]\t[dnn.py:210:train] dataset train: loss 0.8783 0.9185, accuracy 44146 / 50000 = 0.8829\n",
      "[2023-04-25 16:25:07,915] [INFO]\t[dnn.py:217:train] dataset eval:  loss 0.8838 0.9240, accuracy  8827 / 10000 = 0.8827\n",
      "[2023-04-25 16:25:17,482] [INFO]\t[dnn.py:202:train] 9.362 sec, finish epoch 2 / 10\n",
      "[2023-04-25 16:25:18,546] [INFO]\t[dnn.py:210:train] dataset train: loss 0.7090 0.7579, accuracy 45012 / 50000 = 0.9002\n",
      "[2023-04-25 16:25:18,748] [INFO]\t[dnn.py:217:train] dataset eval:  loss 0.7228 0.7716, accuracy  8947 / 10000 = 0.8947\n",
      "[2023-04-25 16:25:28,198] [INFO]\t[dnn.py:202:train] 9.220 sec, finish epoch 3 / 10\n",
      "[2023-04-25 16:25:29,244] [INFO]\t[dnn.py:210:train] dataset train: loss 0.6375 0.6919, accuracy 45466 / 50000 = 0.9093\n",
      "[2023-04-25 16:25:29,452] [INFO]\t[dnn.py:217:train] dataset eval:  loss 0.6565 0.7110, accuracy  9067 / 10000 = 0.9067\n",
      "[2023-04-25 16:25:38,884] [INFO]\t[dnn.py:202:train] 9.213 sec, finish epoch 4 / 10\n",
      "[2023-04-25 16:25:39,920] [INFO]\t[dnn.py:210:train] dataset train: loss 0.5935 0.6522, accuracy 45830 / 50000 = 0.9166\n",
      "[2023-04-25 16:25:40,123] [INFO]\t[dnn.py:217:train] dataset eval:  loss 0.6154 0.6741, accuracy  9123 / 10000 = 0.9123\n",
      "[2023-04-25 16:25:49,421] [INFO]\t[dnn.py:202:train] 9.052 sec, finish epoch 5 / 10\n",
      "[2023-04-25 16:25:50,458] [INFO]\t[dnn.py:210:train] dataset train: loss 0.5630 0.6254, accuracy 46032 / 50000 = 0.9206\n",
      "[2023-04-25 16:25:50,684] [INFO]\t[dnn.py:217:train] dataset eval:  loss 0.5873 0.6496, accuracy  9165 / 10000 = 0.9165\n",
      "[2023-04-25 16:26:00,170] [INFO]\t[dnn.py:202:train] 9.272 sec, finish epoch 6 / 10\n",
      "[2023-04-25 16:26:01,328] [INFO]\t[dnn.py:210:train] dataset train: loss 0.5374 0.6027, accuracy 46210 / 50000 = 0.9242\n",
      "[2023-04-25 16:26:01,562] [INFO]\t[dnn.py:217:train] dataset eval:  loss 0.5638 0.6292, accuracy  9221 / 10000 = 0.9221\n",
      "[2023-04-25 16:26:11,010] [INFO]\t[dnn.py:202:train] 9.214 sec, finish epoch 7 / 10\n",
      "[2023-04-25 16:26:12,010] [INFO]\t[dnn.py:210:train] dataset train: loss 0.5201 0.5882, accuracy 46380 / 50000 = 0.9276\n",
      "[2023-04-25 16:26:12,210] [INFO]\t[dnn.py:217:train] dataset eval:  loss 0.5486 0.6167, accuracy  9235 / 10000 = 0.9235\n",
      "[2023-04-25 16:26:21,618] [INFO]\t[dnn.py:202:train] 9.189 sec, finish epoch 8 / 10\n",
      "[2023-04-25 16:26:22,591] [INFO]\t[dnn.py:210:train] dataset train: loss 0.5013 0.5720, accuracy 46462 / 50000 = 0.9292\n",
      "[2023-04-25 16:26:22,803] [INFO]\t[dnn.py:217:train] dataset eval:  loss 0.5335 0.6041, accuracy  9265 / 10000 = 0.9265\n",
      "[2023-04-25 16:26:32,280] [INFO]\t[dnn.py:202:train] 9.236 sec, finish epoch 9 / 10\n",
      "[2023-04-25 16:26:33,292] [INFO]\t[dnn.py:210:train] dataset train: loss 0.4927 0.5655, accuracy 46517 / 50000 = 0.9303\n",
      "[2023-04-25 16:26:33,489] [INFO]\t[dnn.py:217:train] dataset eval:  loss 0.5272 0.6000, accuracy  9276 / 10000 = 0.9276\n",
      "[2023-04-25 16:26:42,886] [INFO]\t[dnn.py:202:train] 9.177 sec, finish epoch 10 / 10\n",
      "[2023-04-25 16:26:43,931] [INFO]\t[dnn.py:210:train] dataset train: loss 0.4937 0.5686, accuracy 46514 / 50000 = 0.9303\n",
      "[2023-04-25 16:26:44,163] [INFO]\t[dnn.py:217:train] dataset eval:  loss 0.5298 0.6047, accuracy  9257 / 10000 = 0.9257\n",
      "[2023-04-25 16:26:44,163] [INFO]\t[dnn.py:239:save] saving model to file: model_mnist.json\n"
     ]
    }
   ],
   "source": [
    "net, train_stat, eval_stat = train_nn_v2()"
   ]
  },
  {
   "cell_type": "code",
   "execution_count": 6,
   "id": "e2748959",
   "metadata": {},
   "outputs": [
    {
     "name": "stdout",
     "output_type": "stream",
     "text": [
      "[[4.41460000e+04 8.78344363e-01 9.18503953e-01]\n",
      " [4.50120000e+04 7.09030369e-01 7.57905228e-01]\n",
      " [4.54660000e+04 6.37494159e-01 6.91914304e-01]\n",
      " [4.58300000e+04 5.93473389e-01 6.52187706e-01]\n",
      " [4.60320000e+04 5.63042244e-01 6.25373822e-01]\n",
      " [4.62100000e+04 5.37352239e-01 6.02738288e-01]\n",
      " [4.63800000e+04 5.20060142e-01 5.88215314e-01]\n",
      " [4.64620000e+04 5.01335812e-01 5.71979829e-01]\n",
      " [4.65170000e+04 4.92670740e-01 5.65489644e-01]\n",
      " [4.65140000e+04 4.93702027e-01 5.68564584e-01]] [[8.82700000e+03 8.83844709e-01 9.24004298e-01]\n",
      " [8.94700000e+03 7.22767540e-01 7.71642399e-01]\n",
      " [9.06700000e+03 6.56545769e-01 7.10965914e-01]\n",
      " [9.12300000e+03 6.15384668e-01 6.74098984e-01]\n",
      " [9.16500000e+03 5.87268037e-01 6.49599616e-01]\n",
      " [9.22100000e+03 5.63772332e-01 6.29158381e-01]\n",
      " [9.23500000e+03 5.48565329e-01 6.16720500e-01]\n",
      " [9.26500000e+03 5.33492063e-01 6.04136079e-01]\n",
      " [9.27600000e+03 5.27166598e-01 5.99985502e-01]\n",
      " [9.25700000e+03 5.29827537e-01 6.04690094e-01]]\n"
     ]
    },
    {
     "data": {
      "text/plain": [
       "Text(0, 0.5, 'accuracy')"
      ]
     },
     "execution_count": 6,
     "metadata": {},
     "output_type": "execute_result"
    },
    {
     "data": {
      "image/png": "[encoded data removed]",
      "text/plain": [
       "<Figure size 960x600 with 1 Axes>"
      ]
     },
     "metadata": {},
     "output_type": "display_data"
    }
   ],
   "source": [
    "print(train_stat, eval_stat)\n",
    "\n",
    "plt.figure(figsize=(8,5), dpi=120)\n",
    "x = np.arange(train_stat.shape[0]) + 1\n",
    "plt.plot(x, train_stat[:,0] / n_train, marker='.', label='train')\n",
    "plt.plot(x, eval_stat[:,0] / n_eval,   marker='.', label='validation')\n",
    "plt.legend(loc='best')\n",
    "plt.xlabel('epoch')\n",
    "plt.ylabel('accuracy')"
   ]
  },
  {
   "cell_type": "markdown",
   "id": "bda53517",
   "metadata": {},
   "source": [
    "加载模型、预测验证，打印部分分类错误的数字。"
   ]
  },
  {
   "cell_type": "code",
   "execution_count": 7,
   "id": "6a64639b",
   "metadata": {
    "scrolled": false
   },
   "outputs": [
    {
     "name": "stderr",
     "output_type": "stream",
     "text": [
      "[2023-04-25 16:26:44,580] [INFO]\t[dnn.py:276:load] loading model from file: model_mnist.json\n",
      "[2023-04-25 16:26:44,611] [INFO]\t[dnn.py:123:__init__] init fc-layer #1: w shape (784, 30) mean -0.000204, b shape (30,) mean 0.166382, act relu\n",
      "[2023-04-25 16:26:44,611] [INFO]\t[dnn.py:123:__init__] init fc-layer #2: w shape (30, 10) mean 0.003918, b shape (10,) mean -0.226064, act sigmoid\n",
      "[2023-04-25 16:26:44,658] [INFO]\t[3469783925.py:22:load_n_eval] test data set: accuracy  9187 / 10000 = 0.9187\n"
     ]
    },
    {
     "name": "stdout",
     "output_type": "stream",
     "text": [
      "# 1 - predict: 2, actual: 5\n",
      "............................\n",
      "............................\n",
      "............................\n",
      "............................\n",
      "...........x..xx............\n",
      "..........xxxxxxx...........\n",
      "........xxxxxxxxx...........\n",
      "........xxxxxxx.............\n",
      "........xxxx................\n",
      ".........xx.................\n",
      ".........xx.................\n",
      "........xxx.................\n",
      "........xxx.................\n",
      "........xxx.................\n",
      "........xx..................\n",
      ".......xxx...xxxxxx.........\n",
      ".......xxxxxxxxxxxxxxxx.....\n",
      ".......xxxxxxxxxxxxxxxx.....\n",
      "........xxxxxxxxxxxx.xxx....\n",
      "........xxxxx..........xx...\n",
      "........xxx............xxx..\n",
      "........................xx..\n",
      ".......................xxx..\n",
      ".......................xxx..\n",
      "............................\n",
      "............................\n",
      "............................\n",
      "............................\n",
      "# 2 - predict: 1, actual: 9\n",
      "............................\n",
      "............................\n",
      "............................\n",
      "............................\n",
      "............................\n",
      "............................\n",
      "................xxxx........\n",
      "..............xxxxxxx.......\n",
      ".............xxxxxxxx.......\n",
      "............xxx..xxxx.......\n",
      "...........xxxx.xxxx........\n",
      "...........xxxxxxxxx........\n",
      "...........xxxxxxx..........\n",
      "............xxxxxx..........\n",
      "..............xxx...........\n",
      ".............xxx............\n",
      ".............xxx............\n",
      "............xxx.............\n",
      "...........xxxx.............\n",
      "..........xxxx..............\n",
      ".........xxxx...............\n",
      ".........xxx................\n",
      "........xxx.................\n",
      ".......xxxx.................\n",
      ".......xxxxx................\n",
      ".......xxx..................\n",
      "............................\n",
      "............................\n",
      "# 3 - predict: 8, actual: 9\n",
      "............................\n",
      "............................\n",
      "............................\n",
      "............................\n",
      "............................\n",
      "............................\n",
      "...............xxx..........\n",
      ".............xxxxxx.........\n",
      "............xxx..xx.........\n",
      "...........xxx...xx.........\n",
      "..........xxx...xx..........\n",
      "..........xx...xxx..........\n",
      "..........xx..xxxx..........\n",
      "..........xx.xxxx...........\n",
      "..........xxxxxx............\n",
      "...........xxxxx............\n",
      ".............xx.............\n",
      "............xx..............\n",
      "...........xxx..............\n",
      "...........xx...............\n",
      "..........xx................\n",
      ".........xxx......x.........\n",
      ".........xx......xx.........\n",
      "........xx.......xx.........\n",
      "................xxx.........\n",
      "................xx..........\n",
      "............................\n",
      "............................\n",
      "# 4 - predict: 5, actual: 3\n",
      "............................\n",
      "............................\n",
      "............................\n",
      "............................\n",
      "............................\n",
      "............................\n",
      ".....xxxxxxxx...............\n",
      "....xxxx...xxx..............\n",
      "............xx..............\n",
      "............xx..............\n",
      "..........xxx...............\n",
      "..........xx................\n",
      ".........xx.................\n",
      ".........xxxxxx.............\n",
      ".............xxxxx..........\n",
      "................xxx.........\n",
      "..................xxx.......\n",
      "....................xx......\n",
      ".....................x......\n",
      "............xx........x.....\n",
      "............xxx.......xx....\n",
      "..............xxx.....xx....\n",
      "................xxxxxxxx....\n",
      "...................xxx......\n",
      "............................\n",
      "............................\n",
      "............................\n",
      "............................\n",
      "# 5 - predict: 9, actual: 0\n",
      "............................\n",
      "............................\n",
      "............................\n",
      "............................\n",
      "............................\n",
      "............................\n",
      "............................\n",
      "..........xxxxxx............\n",
      ".........xxxxxxxxx..........\n",
      ".......xxx.......xx.........\n",
      ".......xx.........xx........\n",
      "......xx...........xx.......\n",
      "...xxxx....xx.......xx......\n",
      "...x......xxx........x......\n",
      "..........xxx........x......\n",
      "..........xxx........x......\n",
      "...........xxx......xxx.....\n",
      "...........xxx......xxx.....\n",
      "............xxxx...xxx......\n",
      ".............xxxxxxxx.......\n",
      "..............xxxxx.x.......\n",
      "............................\n",
      "............................\n",
      "............................\n",
      "............................\n",
      "............................\n",
      "............................\n",
      "............................\n",
      "test_acc: 0.9187\n"
     ]
    }
   ],
   "source": [
    "net, test_acc = load_n_eval(5)\n",
    "print('test_acc: {:.4f}'.format(test_acc))"
   ]
  },
  {
   "cell_type": "code",
   "execution_count": null,
   "id": "d4f16313",
   "metadata": {},
   "outputs": [],
   "source": []
  }
 ],
 "metadata": {
  "kernelspec": {
   "display_name": "Python 3 (ipykernel)",
   "language": "python",
   "name": "python3"
  },
  "language_info": {
   "codemirror_mode": {
    "name": "ipython",
    "version": 3
   },
   "file_extension": ".py",
   "mimetype": "text/x-python",
   "name": "python",
   "nbconvert_exporter": "python",
   "pygments_lexer": "ipython3",
   "version": "3.9.16"
  }
 },
 "nbformat": 4,
 "nbformat_minor": 5
}
